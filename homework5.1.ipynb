{
 "cells": [
  {
   "cell_type": "code",
   "execution_count": null,
   "metadata": {},
   "outputs": [
    {
     "name": "stdout",
     "output_type": "stream",
     "text": [
      "Attempting to connect to the database...\n",
      "Connection successful!\n",
      "Query Results: [(2, 'LAX', 'DXB', datetime.datetime(2024, 12, 3, 23, 0), datetime.datetime(2024, 12, 4, 18, 30), 2, 'Scheduled', 104)]\n"
     ]
    }
   ],
   "source": [
    "# 问题 1 - 预测用户1对item 508的评分\n",
    "import pandas as pd\n",
    "import numpy as np\n",
    "from sklearn.metrics.pairwise import cosine_similarity\n",
    "\n",
    "# 加载数据\n",
    "column_names = ['user_id', 'item_id', 'rating', 'timestamp']\n",
    "df = pd.read_csv(\"D:/software/ml-100k/ml-100k/u.data\", sep='\\t', names=column_names)\n",
    "\n",
    "# 创建用户-物品评分矩阵\n",
    "utility_matrix = df.pivot(index='user_id', columns='item_id', values='rating')\n",
    "\n",
    "# 中心化（每个用户减去其平均评分）\n",
    "user_means = utility_matrix.mean(axis=1)\n",
    "centered_matrix = utility_matrix.sub(user_means, axis=0)\n",
    "\n",
    "# 填补 NaN 为 0 以便计算余弦相似度\n",
    "filled_centered = centered_matrix.fillna(0)\n",
    "\n",
    "# 计算用户之间的余弦相似度\n",
    "similarity_matrix = cosine_similarity(filled_centered)\n",
    "similarity_df = pd.DataFrame(similarity_matrix, index=utility_matrix.index, columns=utility_matrix.index)\n",
    "\n",
    "# 取出与用户1最相似的前10个用户（排除自己）\n",
    "user1_similar = similarity_df.loc[1].drop(1)\n",
    "top_10_users = user1_similar.sort_values(ascending=False).head(10)\n",
    "\n",
    "print(\"与用户1最相似的10个用户：\")\n",
    "print(top_10_users)\n",
    "\n",
    "# 预测用户1对item 508的评分：取相似用户的评分平均值\n",
    "ratings_508 = utility_matrix.loc[top_10_users.index, 508]\n",
    "expected_rating = ratings_508.mean()\n",
    "print(f\"\\n预测用户 1 对 item 508 的评分为：{expected_rating:.2f}\")\n"
   ]
  },
  {
   "cell_type": "code",
   "execution_count": null,
   "metadata": {},
   "outputs": [],
   "source": []
  }
 ],
 "metadata": {
  "kernelspec": {
   "display_name": "Python (new_env1)",
   "language": "python",
   "name": "new_env1"
  },
  "language_info": {
   "codemirror_mode": {
    "name": "ipython",
    "version": 3
   },
   "file_extension": ".py",
   "mimetype": "text/x-python",
   "name": "python",
   "nbconvert_exporter": "python",
   "pygments_lexer": "ipython3",
   "version": "3.8.20"
  }
 },
 "nbformat": 4,
 "nbformat_minor": 2
}
