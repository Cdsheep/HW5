{
 "cells": [
  {
   "cell_type": "code",
   "execution_count": null,
   "metadata": {},
   "outputs": [
    {
     "name": "stdout",
     "output_type": "stream",
     "text": [
      "Attempting to connect to the database...\n",
      "Connection successful!\n",
      "Query Results: [(2, 'LAX', 'DXB', datetime.datetime(2024, 12, 3, 23, 0), datetime.datetime(2024, 12, 4, 18, 30), 2, 'Scheduled', 104)]\n"
     ]
    }
   ],
   "source": [
    "# 导入所需的库\n",
    "import pandas as pd\n",
    "from sklearn.datasets import fetch_california_housing\n",
    "from sklearn.preprocessing import StandardScaler\n",
    "from sklearn.cluster import KMeans\n",
    "from sklearn.metrics import silhouette_score\n",
    "import numpy as np\n",
    "\n",
    "# 加载加利福尼亚房价数据集\n",
    "california = fetch_california_housing()\n",
    "df = pd.DataFrame(california.data, columns=california.feature_names)\n",
    "df['target'] = california.target\n",
    "\n",
    "# 标准化数据\n",
    "scaler = StandardScaler()\n",
    "scaled_data = scaler.fit_transform(df.drop('target', axis=1))\n",
    "\n",
    "# 初始化变量\n",
    "sil_scores = []\n",
    "k_range = range(2, 7)  # 聚类数从2到6\n",
    "\n",
    "# 计算每个k值的K-Means聚类和Silhouette得分\n",
    "for k in k_range:\n",
    "    kmeans = KMeans(n_clusters=k, random_state=42)\n",
    "    kmeans.fit(scaled_data)\n",
    "    sil_score = silhouette_score(scaled_data, kmeans.labels_)\n",
    "    sil_scores.append(sil_score)\n",
    "\n",
    "# 找到最佳的k值\n",
    "best_k = k_range[np.argmax(sil_scores)]\n",
    "best_sil_score = max(sil_scores)\n",
    "\n",
    "# 最优k值的K-Means聚类\n",
    "kmeans_best = KMeans(n_clusters=best_k, random_state=42)\n",
    "kmeans_best.fit(scaled_data)\n",
    "labels = kmeans_best.labels_\n",
    "centroids = kmeans_best.cluster_centers_\n",
    "\n",
    "# 计算每个聚类的均值\n",
    "cluster_means = pd.DataFrame(columns=df.columns[:-1])  # 去除目标列\n",
    "for i in range(best_k):\n",
    "    cluster_means.loc[i] = df.iloc[labels == i, :-1].mean()\n",
    "\n",
    "# 输出结果\n",
    "print(f\"最佳聚类数 k = {best_k}\")\n",
    "print(f\"Silhouette 得分 = {best_sil_score:.4f}\")\n",
    "print(\"\\n每个聚类的特征均值：\")\n",
    "print(cluster_means)\n",
    "\n",
    "print(\"\\n最优聚类的质心坐标：\")\n",
    "print(centroids)\n"
   ]
  },
  {
   "cell_type": "code",
   "execution_count": null,
   "metadata": {},
   "outputs": [],
   "source": []
  }
 ],
 "metadata": {
  "kernelspec": {
   "display_name": "Python (new_env1)",
   "language": "python",
   "name": "new_env1"
  },
  "language_info": {
   "codemirror_mode": {
    "name": "ipython",
    "version": 3
   },
   "file_extension": ".py",
   "mimetype": "text/x-python",
   "name": "python",
   "nbconvert_exporter": "python",
   "pygments_lexer": "ipython3",
   "version": "3.8.20"
  }
 },
 "nbformat": 4,
 "nbformat_minor": 2
}
